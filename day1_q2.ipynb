{
 "cells": [
  {
   "cell_type": "markdown",
   "id": "6fde5bfc-ba2b-453a-83ca-f387473c4792",
   "metadata": {},
   "source": [
    "## day 1 Q2"
   ]
  },
  {
   "cell_type": "markdown",
   "id": "8ea3f24f-6946-4c03-8c3e-029e71aa4dac",
   "metadata": {},
   "source": [
    "1-2. 설치\n",
    "\n",
    "3. API 를 통해 Ollama Llama3 모델에 프롬프트 입력하고 결과 받기\n",
    "   - ollama serve 구동 필요\n",
    "   - 아래 셀 실행\n",
    "\n",
    "4. Model phi3로 변경해서 해보기\n",
    "\n",
    "5. 사전에 작성한 2개의 역할 중 무엇이 사용자 입력 프롬프트에 대해 더 잘 답할 수 있을지 답변하는 프롬프트 작성하기 (질문에 대한 답변을 하는 것이 아니라 2개의 역할 중 어떤 역할이 잘 답할지를 답변하도록 하기)\n",
    "첫번째 역할: math teacher\n",
    "두번째 역할: history teacher\n",
    "사용자 입력 예) what is the Newton’s law? How did World War I end?\n",
    "\n",
    "6. 5에서 작성한 프롬프트와 역할을 이용해, 사용자 입력에 적합한 역할로써 사용자 입력에 답하는 프롬프트 및 코드 작성하기\n",
    "\n",
    "7. 오늘 배운 프롬프트 엔지니어링을 활용해 5번의 각 역할이 더 대답을 잘할 수 있도록 프롬프트 개선하기\n",
    "\n",
    "8. 1부터 n 까지의 자연 수 중 m 개의 수를 list 를 받아 정렬하는 문제를 LLM 이 잘 풀 수 있도록 다양한 프롬프트 엔지니어링을 시도, 평가해보고 시도한 프롬프트의 테스트 케이스들에 대한 성공률 및 순위를 작성\n"
   ]
  },
  {
   "cell_type": "code",
   "execution_count": 24,
   "id": "0fc99ca6-896c-41a3-a77f-4cfc3383a351",
   "metadata": {},
   "outputs": [
    {
     "name": "stdout",
     "output_type": "stream",
     "text": [
      "Question: what is 2 + 3?\n",
      "Persona Header: You are a math teacher. Calculate formula step by step. \n",
      "\n",
      "Question: who was the first president of the USA?\n",
      "Persona Header: You are a history teacher. Share your knowledge or please search for relevant databases or internet. \n",
      "\n",
      "Question: what is the capital of France?\n",
      "Persona Header: You are a general knowledge expert. Provide a well-informed response. \n",
      "\n"
     ]
    }
   ],
   "source": [
    "import re\n",
    "\n",
    "def determine_persona(question):\n",
    "    # Define regex patterns for math and history questions\n",
    "    math_pattern = r'\\b(\\d+|\\+|\\-|\\*|\\/|=|calculate|multiply|divide|formula)\\b'  # basic arithmetic pattern\n",
    "    history_pattern = r'\\b(who|when|where)\\b.+\\b(president|king|war|invention|discovery)\\b'  # basic history pattern\n",
    "\n",
    "    # Check for math question\n",
    "    if re.search(math_pattern, question):\n",
    "        return \"You are a math teacher. Calculate formula step by step. \"\n",
    "    \n",
    "    # Check for history question\n",
    "    elif re.search(history_pattern, question, re.IGNORECASE):\n",
    "        return \"You are a history teacher. Share your knowledge or please search for relevant databases or internet. \"\n",
    "\n",
    "    # Default case for other types of questions\n",
    "    else:\n",
    "        return \"You are a general knowledge expert. Provide a well-informed response. \"\n",
    "\n",
    "# Example usage\n",
    "questions = [\n",
    "    \"what is 2 + 3?\",\n",
    "    \"who was the first president of the USA?\",\n",
    "    \"what is the capital of France?\"\n",
    "]\n",
    "\n",
    "for question in questions:\n",
    "    persona_header = determine_persona(question)\n",
    "    print(f\"Question: {question}\")\n",
    "    print(f\"Persona Header: {persona_header}\\n\")"
   ]
  },
  {
   "cell_type": "code",
   "execution_count": 10,
   "id": "6913712c-6776-4dd8-9801-407acf79b386",
   "metadata": {},
   "outputs": [],
   "source": [
    "import os\n",
    "import openai\n",
    "import requests\n",
    "import json\n",
    "\n",
    "def question_on_api(question):\n",
    "    # Define the API endpoint\n",
    "    api_endpoint = \"http://localhost:11434/api/chat\"\n",
    "    \n",
    "    # Define the headers\n",
    "    headers = {\n",
    "        \"Content-Type\": \"application/json\"\n",
    "    }\n",
    "    \n",
    "    prompt = determine_persona(question) + question\n",
    "    \n",
    "    # Define the payload\n",
    "    payload = {\n",
    "        \"model\": \"llama3\",\n",
    "        \"messages\": [\n",
    "            {\"role\": \"user\", \"content\": prompt}\n",
    "        ]\n",
    "    }\n",
    "    \n",
    "    # Make a POST request to the API\n",
    "    response = requests.post(api_endpoint, headers=headers, json=payload)\n",
    "    \n",
    "    # Check if the request was successful\n",
    "    if response.status_code == 200:\n",
    "        try:\n",
    "            # Split the response into individual JSON objects\n",
    "            raw_response = response.text\n",
    "            json_objects = raw_response.splitlines()\n",
    "            \n",
    "            # Collect all content fields\n",
    "            content_list = []\n",
    "            for obj in json_objects:\n",
    "                parsed_obj = json.loads(obj)\n",
    "                content_list.append(parsed_obj['message']['content'])\n",
    "            \n",
    "            # Concatenate all content fields into a single sentence\n",
    "            full_response = ''.join(content_list)\n",
    "            print(\"Concatenated response:\", full_response)\n",
    "        except json.JSONDecodeError as e:\n",
    "            # Print the raw response text if JSON decoding fails\n",
    "            print(\"Failed to decode JSON response. Raw response:\")\n",
    "            print(response.text)\n",
    "    else:\n",
    "        print(f\"Failed to generate text. Status code: {response.status_code}\")\n",
    "        print(\"Response:\", response.text)"
   ]
  },
  {
   "cell_type": "code",
   "execution_count": 11,
   "id": "9b3155ba-aa84-4401-b4f0-78d1f2addd9c",
   "metadata": {},
   "outputs": [
    {
     "name": "stdout",
     "output_type": "stream",
     "text": [
      "Concatenated response: As a history teacher, I'd be happy to share my knowledge with you!\n",
      "\n",
      "The second President of the United States was John Adams.\n",
      "\n",
      "John Adams served as the second President of the United States from 1797 to 1801. He was a Founding Father and one of the most important figures in American history. Prior to his presidency, Adams played a leading role in the drafting and signing of the Declaration of Independence in 1776.\n",
      "\n",
      "Adams was a Federalist and served as Vice President under George Washington from 1789 to 1797. When Washington declined to run for re-election, Adams became the first vice president to assume the presidency.\n",
      "\n",
      "During his presidency, Adams faced several challenges, including the XYZ Affair with France, which led to an undeclared naval war between the two countries. He also signed the Alien and Sedition Acts, which were controversial laws that restricted immigration and freedom of speech.\n",
      "\n",
      "Adams was succeeded by Thomas Jefferson as president in 1801.\n",
      "\n",
      "Source:\n",
      "\n",
      "* National Archives: John Adams (https://www.archives.gov/historical-docs/presidential-papers/john-adams)\n",
      "* Biography.com: John Adams (https://www.biography.com/us-president-john-adams)\n",
      "* History.com: John Adams (https://www.history.com/topics/american-history/john-adams)\n",
      "\n",
      "I hope this helps!\n"
     ]
    }
   ],
   "source": [
    "question_on_api(\"Who was the second president of USA?\")"
   ]
  },
  {
   "cell_type": "code",
   "execution_count": 12,
   "id": "b4dd5ae7-52f0-48ad-a264-637ec0e72cf5",
   "metadata": {},
   "outputs": [
    {
     "name": "stdout",
     "output_type": "stream",
     "text": [
      "Concatenated response: I'd be happy to walk you through the calculation step by step.\n",
      "\n",
      "To calculate 3 * 2 / 6, we need to follow the order of operations (PEMDAS):\n",
      "\n",
      "1. Multiply 3 and 2:\n",
      "3 * 2 = 6\n",
      "\n",
      "So far, our calculation looks like this:\n",
      "\n",
      "6 / 6\n",
      "\n",
      "2. Divide 6 by 6:\n",
      "6 ÷ 6 = 1\n",
      "\n",
      "And that's the final answer!\n",
      "\n",
      "So, 3 * 2 / 6 = 1\n"
     ]
    }
   ],
   "source": [
    "question_on_api(\"Can you calculate 3 * 2 / 6?\")"
   ]
  },
  {
   "cell_type": "code",
   "execution_count": 13,
   "id": "de42c3b3-a084-4b13-8fe9-803399ce87ec",
   "metadata": {},
   "outputs": [
    {
     "name": "stdout",
     "output_type": "stream",
     "text": [
      "Concatenated response: A fellow engineer! As someone who understands the demands of your profession and the importance of recharging, I'm happy to share some tips on how you can take care of yourself when feeling tired.\n",
      "\n",
      "**Prioritize Self-Care**\n",
      "\n",
      "As an engineer with a busy schedule, it's essential to prioritize self-care. When you're exhausted, your body and mind need a break. Here are some simple yet effective ways to recharge:\n",
      "\n",
      "1. **Get enough sleep**: Aim for 7-9 hours of sleep each night. Establish a consistent sleep schedule, and create a relaxing bedtime routine to signal your brain that it's time to wind down.\n",
      "2. **Take power naps**: If you're feeling tired during the day, try taking a 15-20 minute power nap. This can help refresh your mind and body. Just be sure to set an alarm so you don't oversleep!\n",
      "3. **Engage in relaxation techniques**: Practice deep breathing exercises, progressive muscle relaxation, or meditation to calm your mind and reduce stress.\n",
      "4. **Take breaks**: As an engineer, it's easy to get caught up in work, but taking short breaks can help you recharge. Take a walk outside, do some stretching, or enjoy a cup of tea.\n",
      "\n",
      "**Activities for Tired Engineers (and Parents!)**\n",
      "\n",
      "When you're feeling tired, it's essential to find activities that are enjoyable and don't require too much mental or physical energy. Here are some ideas:\n",
      "\n",
      "1. **Read a book**: Pick a light-hearted novel or a self-help book that interests you.\n",
      "2. **Watch a movie or TV show**: Catch up on your favorite series or watch a new release.\n",
      "3. **Play with your kids**: Engage in activities that don't require too much mental effort, like building with Legos, playing board games, or going for a family walk.\n",
      "4. **Listen to music or podcasts**: Put on some calming tunes or listen to an engaging podcast.\n",
      "\n",
      "**Tips for Busy Engineers**\n",
      "\n",
      "As a parent and engineer, it's crucial to manage your time effectively. Here are some additional tips:\n",
      "\n",
      "1. **Use your commute wisely**: Utilize your daily commute to relax, read, or listen to a podcast.\n",
      "2. **Batch similar tasks**: Group similar activities together (e.g., respond to emails in one session) to optimize your time.\n",
      "3. **Ask for help when needed**: Don't be afraid to ask your partner, family, or friends for assistance with childcare or household chores.\n",
      "\n",
      "**Remember**\n",
      "\n",
      "As an engineer and parent, you're not alone! It's normal to feel tired, especially when juggling multiple responsibilities. By prioritizing self-care, taking breaks, and engaging in relaxing activities, you can recharge and maintain the energy levels needed to tackle your busy life.\n"
     ]
    }
   ],
   "source": [
    "question_on_api(\"I am an engineer with two kids. When I am tired, what can I do?\")"
   ]
  },
  {
   "cell_type": "markdown",
   "id": "51563cb4-82d5-4c2b-aaa7-5daf302aa31f",
   "metadata": {},
   "source": [
    "### 8. "
   ]
  },
  {
   "cell_type": "code",
   "execution_count": 21,
   "id": "fd72741e-aff2-4767-9b7e-c6be54ca4737",
   "metadata": {},
   "outputs": [],
   "source": [
    "sort_prompt = \"\"\"For example,\n",
    "If the question was: Sort the following list of m natural numbers taken from 1 to n in ascending order:\n",
    "Input: [8, 2, 5, 11, 6]\n",
    "Steps:\n",
    "1. Divide: Split the array into two halves.\n",
    "2. Conquer: Recursively sort each half.\n",
    "3. Combine: Merge the two sorted halves into a single sorted array.\n",
    "Expected Output: [2, 5, 6, 8, 11].\n",
    "\n",
    "Question: Please sort [10000, -2, 99, -6, 0]\"\"\""
   ]
  },
  {
   "cell_type": "markdown",
   "id": "a0db578d-b38e-4347-9c7e-93c3d4b4cd07",
   "metadata": {},
   "source": [
    "- bad"
   ]
  },
  {
   "cell_type": "code",
   "execution_count": 23,
   "id": "c0b17684-eb7c-49e7-8924-fb21cdd36850",
   "metadata": {},
   "outputs": [
    {
     "name": "stdout",
     "output_type": "stream",
     "text": [
      "Concatenated response: A great question!\n",
      "\n",
      "To sort this list of numbers, we'll use the basic concept of ordering numbers from smallest to largest. Here's the step-by-step calculation:\n",
      "\n",
      "1. Start with the original list: `[10000, -2, 99, -6, 0]`\n",
      "2. Compare the first two elements: `-2` and `0`. Since `-2` is smaller than `0`, we'll move `-2` to the front of the list.\n",
      "\t* New list: `[-2, 0, 10000, -6, 99]`\n",
      "3. Now compare the next two elements: `0` and `10000`. Clearly, `0` is much smaller than `10000`, so we'll keep `-2` as the smallest element.\n",
      "\t* New list: `[-2, 0, 10000, -6, 99]`\n",
      "4. Move on to the next pair of elements: `-6` and `99`. Since `-6` is smaller than `99`, we'll place `-6` after `0`.\n",
      "\t* New list: `[-2, 0, -6, 99, 10000]`\n",
      "\n",
      "And that's it! The sorted list is:\n",
      "\n",
      "`[-2, 0, -6, 99, 10000]`\n",
      "\n",
      "Now, if you want to get fancy and use a more efficient sorting algorithm (like quicksort or mergesort), I'd be happy to help with that too!\n"
     ]
    }
   ],
   "source": [
    "question_on_api(\"Question: Please sort [10000, -2, 99, -6, 0]\")"
   ]
  },
  {
   "cell_type": "markdown",
   "id": "14f76c02-a446-4a33-acbe-5da8929fa948",
   "metadata": {},
   "source": [
    "- enhancement!"
   ]
  },
  {
   "cell_type": "code",
   "execution_count": 22,
   "id": "3ada79fc-2ee7-41fc-b66e-936ede9b7cb3",
   "metadata": {},
   "outputs": [
    {
     "name": "stdout",
     "output_type": "stream",
     "text": [
      "Concatenated response: To sort the given list of numbers in ascending order using the merge sort algorithm, I will follow these steps:\n",
      "\n",
      "1. **Divide**: Split the array into two halves.\n",
      "\n",
      "```\n",
      "[10000, -2, 99, -6, 0]\n",
      "```\n",
      "\n",
      "Splitting at the middle index (since the length is odd), we get:\n",
      "\n",
      "```\n",
      "Left Half: [-2, 0, 99]\n",
      "Right Half: [10000, -6]\n",
      "```\n",
      "\n",
      "1. **Conquer**: Recursively sort each half.\n",
      "\n",
      "**Left Half**: Sort in ascending order.\n",
      "```\n",
      "[-2, 0, 99]\n",
      "```\n",
      "\n",
      "* Divide: Split the array into two halves.\n",
      "\t+ Left Half: [-2, 0]\n",
      "\t+ Right Half: [99]\n",
      "* Conquer: Recursively sort each half.\n",
      "\t+ Left Half: [-2, 0] is already sorted. No further division or recursion needed.\n",
      "\t+ Right Half: [99] has only one element. It's already sorted. No further division or recursion needed.\n",
      "* Combine: Merge the two sorted halves into a single sorted array.\n",
      "\t+ [-2, 0]\n",
      "\n",
      "**Right Half**: Sort in ascending order.\n",
      "```\n",
      "[10000, -6]\n",
      "```\n",
      "\n",
      "* Divide: Split the array into two halves.\n",
      "\t+ Left Half: [-6]\n",
      "\t+ Right Half: [10000]\n",
      "* Conquer: Recursively sort each half.\n",
      "\t+ Left Half: [-6] is already sorted. No further division or recursion needed.\n",
      "\t+ Right Half: [10000] has only one element. It's already sorted. No further division or recursion needed.\n",
      "* Combine: Merge the two sorted halves into a single sorted array.\n",
      "\t+ [-6]\n",
      "\n",
      "1. **Combine**: Merge the two sorted halves (Left and Right) into a single sorted array.\n",
      "\n",
      "**Merging Left Half**: [-2, 0]\n",
      "**Merging Right Half**: [-6]\n",
      "```\n",
      "[-2, 0, -6]\n",
      "```\n",
      "\n",
      "Now we have the merged left half: `[-2, 0, -6]`.\n",
      "\n",
      "**Merging the final two elements**: [99, 10000]\n",
      "\n",
      "```\n",
      "[-2, 0, -6, 99, 10000]\n",
      "```\n",
      "\n",
      "1. **Final Output**: The sorted array in ascending order is:\n",
      "\n",
      "```\n",
      "[-6, -2, 0, 99, 10000]\n",
      "```\n"
     ]
    }
   ],
   "source": [
    "question_on_api(sort_prompt)"
   ]
  },
  {
   "cell_type": "code",
   "execution_count": null,
   "id": "99804be1-2aa0-475c-9be9-e7b56060431b",
   "metadata": {},
   "outputs": [],
   "source": []
  }
 ],
 "metadata": {
  "kernelspec": {
   "display_name": "Py(LLM)",
   "language": "python",
   "name": "myenv"
  },
  "language_info": {
   "codemirror_mode": {
    "name": "ipython",
    "version": 3
   },
   "file_extension": ".py",
   "mimetype": "text/x-python",
   "name": "python",
   "nbconvert_exporter": "python",
   "pygments_lexer": "ipython3",
   "version": "3.10.13"
  }
 },
 "nbformat": 4,
 "nbformat_minor": 5
}
